{
  "cells": [
    {
      "cell_type": "markdown",
      "metadata": {
        "id": "GJqW1sHnm591"
      },
      "source": [
        "# Введение в искусственные нейронные сети\n",
        "# Урок 4. Сверточные нейронные сети"
      ]
    },
    {
      "cell_type": "markdown",
      "metadata": {
        "id": "IMWXaoLom59_"
      },
      "source": [
        "## Пример создания сверточных и пуллинг слоев на Keras"
      ]
    },
    {
      "cell_type": "code",
      "execution_count": 58,
      "metadata": {
        "id": "jVlE5weZatMB",
        "colab": {
          "base_uri": "https://localhost:8080/",
          "height": 88
        },
        "outputId": "db53f8cd-759a-4224-e764-49435dbc2eaa"
      },
      "outputs": [
        {
          "output_type": "execute_result",
          "data": {
            "text/plain": [
              "'import numpy as np\\n\\nimport tensorflow as tf\\n#from tensorflow import keras\\nimport tensorflow.keras as keras\\n\\nfrom tensorflow.keras.models import Sequential, Model\\nfrom tensorflow.keras import models, layers\\nfrom tensorflow.keras.layers import Conv2D, Input\\nfrom tensorflow.keras.layers import GlobalMaxPooling2D, MaxPooling2D, AveragePooling2D, GlobalAveragePooling2D\\nfrom tensorflow.keras.layers import Dense, Flatten, Concatenate \\n\\nfrom tensorflow.keras.utils import to_categorical\\nfrom tensorflow.keras.utils import plot_model \\n\\nfrom tensorflow.keras.datasets import fashion_mnist'"
            ],
            "application/vnd.google.colaboratory.intrinsic+json": {
              "type": "string"
            }
          },
          "metadata": {},
          "execution_count": 58
        }
      ],
      "source": [
        "\"\"\"import numpy as np\n",
        "\n",
        "import tensorflow as tf\n",
        "#from tensorflow import keras\n",
        "import tensorflow.keras as keras\n",
        "\n",
        "from tensorflow.keras.models import Sequential, Model\n",
        "from tensorflow.keras import models, layers\n",
        "from tensorflow.keras.layers import Conv2D, Input\n",
        "from tensorflow.keras.layers import GlobalMaxPooling2D, MaxPooling2D, AveragePooling2D, GlobalAveragePooling2D\n",
        "from tensorflow.keras.layers import Dense, Flatten, Concatenate \n",
        "\n",
        "from tensorflow.keras.utils import to_categorical\n",
        "from tensorflow.keras.utils import plot_model \n",
        "\n",
        "from tensorflow.keras.datasets import fashion_mnist\"\"\"\n"
      ]
    },
    {
      "cell_type": "code",
      "execution_count": 59,
      "metadata": {
        "id": "7dRmLOfh1R9v"
      },
      "outputs": [],
      "source": [
        "#y_pred=model.predict(x_test)"
      ]
    },
    {
      "cell_type": "code",
      "execution_count": 60,
      "metadata": {
        "id": "89O8e3JVkAI2"
      },
      "outputs": [],
      "source": [
        "#model1.summary()"
      ]
    },
    {
      "cell_type": "markdown",
      "metadata": {
        "id": "d9ztbBnuhb2I"
      },
      "source": [
        "\n",
        "\n",
        "## **Сложные конструкции из простых слоев**\n",
        "\n",
        "Слой для объединения\n",
        "\n",
        "https://keras.io/api/layers/merging_layers/concatenate/"
      ]
    },
    {
      "cell_type": "markdown",
      "metadata": {
        "id": "ExAWI8K-m5-S"
      },
      "source": [
        "## Пример на Keras более сложной сверточной нейронной сети"
      ]
    },
    {
      "cell_type": "markdown",
      "metadata": {
        "id": "bUPiXBS9m5-U"
      },
      "source": [
        "Давайте теперь попробуем сделать несколько усложненный вариант нейронной сети разобранной ранее. В ней будет на несколько слоев больше и в ней будет использоваться data augumentation, процедура позволяющая за счет искажений изображений увеличить количество тренировочных данных, а как мы знаем чем больше тренировочных данных тем лучше будет работать нейросеть. Для обучения нейросети будем использовать датасет cifar-10. В нем 10 категорий объектов, например - лошадь, лягушка, корабль. Данный датасет уже более сложен для нейронных сетей чем mnist, однако он намного проще датасетов наподобие imagenet где используются сотни классов и архитектуры нейронных сетей для подобных датасетов также понадобяться более сложные."
      ]
    },
    {
      "cell_type": "code",
      "execution_count": 61,
      "metadata": {
        "id": "0CMCfvAPdJct"
      },
      "outputs": [],
      "source": [
        "from __future__ import print_function\n",
        "import tensorflow.keras as keras # расскоментируйте эту строку, чтобы начать обучение\n",
        "from tensorflow.keras.datasets import cifar10\n",
        "from tensorflow.keras.preprocessing.image import ImageDataGenerator\n",
        "from tensorflow.keras.models import Sequential\n",
        "from tensorflow.keras.layers import Dense, Dropout, Activation, Flatten\n",
        "from tensorflow.keras.layers import Conv2D, MaxPooling2D\n",
        "from tensorflow.keras.utils import plot_model\n",
        "\n",
        "import numpy as np\n",
        "import matplotlib.pyplot as plt\n",
        "\n",
        "import os"
      ]
    },
    {
      "cell_type": "code",
      "execution_count": 62,
      "metadata": {
        "id": "kiRCJY0WdGph"
      },
      "outputs": [],
      "source": [
        "classes=['самолет', 'автомобиль', 'птица', 'кот', 'олень', 'собака', 'лягушка', 'лошадь', 'корабль', 'грузовик']"
      ]
    },
    {
      "cell_type": "code",
      "execution_count": 63,
      "metadata": {
        "colab": {
          "base_uri": "https://localhost:8080/"
        },
        "id": "yvG4BrpCwuFz",
        "outputId": "3881a9b9-0fed-459d-9f3d-9b7ae011967a"
      },
      "outputs": [
        {
          "output_type": "stream",
          "name": "stdout",
          "text": [
            "x_train shape: (50000, 32, 32, 3)\n",
            "50000 тренировочные примеры\n",
            "10000 тестовые примеры\n"
          ]
        }
      ],
      "source": [
        "\n",
        "\n",
        "# установка параметров нейросети\n",
        "batch_size = 32\n",
        "num_classes = 10\n",
        "epochs = 1\n",
        "data_augmentation = False\n",
        "num_predictions = 20\n",
        "save_dir = os.path.join(os.getcwd(), 'saved_models')\n",
        "model_name = 'keras_cifar10_trained_model.h5'\n",
        "\n",
        "# разделение тренировочной и тестовой выборки\n",
        "(x_train, y_train), (x_test, y_test) = cifar10.load_data()\n",
        "print('x_train shape:', x_train.shape)\n",
        "print(x_train.shape[0], 'тренировочные примеры')\n",
        "print(x_test.shape[0], 'тестовые примеры')\n",
        "\n",
        "# преобразование матрицы чисел 0-9 в бинарную матрицу чисел 0-1\n",
        "y_train = keras.utils.to_categorical(y_train, num_classes)\n",
        "y_test = keras.utils.to_categorical(y_test, num_classes)\n",
        "\n",
        "\n",
        "x_train = x_train.astype('float32')\n",
        "x_test = x_test.astype('float32')\n",
        "x_train /= 255\n",
        "x_test /= 255"
      ]
    },
    {
      "cell_type": "code",
      "execution_count": 64,
      "metadata": {
        "id": "5tT_XojWTENH"
      },
      "outputs": [],
      "source": [
        "data_augmentation = False"
      ]
    },
    {
      "cell_type": "code",
      "execution_count": 65,
      "metadata": {
        "colab": {
          "base_uri": "https://localhost:8080/",
          "height": 281
        },
        "id": "rDe1bd1pw5fM",
        "outputId": "fda0b141-c0d5-4f5a-d0de-b8983c040f97"
      },
      "outputs": [
        {
          "output_type": "display_data",
          "data": {
            "text/plain": [
              "<Figure size 432x288 with 1 Axes>"
            ],
            "image/png": "[encoded data removed]"
          },
          "metadata": {
            "needs_background": "light"
          }
        }
      ],
      "source": [
        "N = 11\n",
        "\n",
        "plt.imshow(x_test[N][:,:,:])\n",
        "plt.title('это : '+classes[np.argmax(y_test[N,:])])\n",
        "plt.show()"
      ]
    },
    {
      "cell_type": "code",
      "source": [
        "\"\"\"# конфигурирование слоев нейросети\n",
        "model = Sequential()\n",
        "\n",
        "# слои нейросети отвественные за свертку и max-pooling\n",
        "model.add(Conv2D(32, (3, 3), padding='same', input_shape=x_train.shape[1:]))\n",
        "model.add(Activation('relu'))\n",
        "model.add(Conv2D(32, (3, 3)))\n",
        "model.add(Activation('relu'))\n",
        "model.add(MaxPooling2D(pool_size=(2, 2)))\n",
        "model.add(Dropout( 0.25))\n",
        "\n",
        "model.add(Conv2D(64, (3, 3), padding='same'))\n",
        "model.add(Activation('relu'))\n",
        "model.add(Conv2D(64, (3, 3)))\n",
        "model.add(Activation('relu'))\n",
        "model.add(MaxPooling2D(pool_size=(2, 2)))\n",
        "model.add(Dropout(0.25))\n",
        "\n",
        "# полносвязные слои нейронной сети\n",
        "model.add(Flatten())\n",
        "model.add(Dense(512))\n",
        "model.add(Activation('relu'))\n",
        "model.add(Dropout(0.5))\n",
        "model.add(Dense(num_classes))\n",
        "model.add(Activation('softmax'))\n",
        "\n",
        "# инициализация RMSprop optimizer\n",
        "#opt = tensorflow.keras.optimizers.RMSprop(lr=0.0001, decay=1e-6)\n",
        "\n",
        "# компиляция модели\n",
        "model.compile(loss='categorical_crossentropy',\n",
        "              optimizer='SGD',\n",
        "              metrics=['accuracy'])\n",
        "\n",
        "\n",
        "\n",
        "if not data_augmentation:\n",
        "    print('Не используется data augmentation')\n",
        "    model.fit(x_train, y_train,\n",
        "              batch_size=batch_size,\n",
        "              epochs=epochs,\n",
        "              validation_data=(x_test, y_test),\n",
        "              shuffle=True)\n",
        "else:\n",
        "    print('Использование data augmentation в реальном времени')\n",
        "    # Препроцессинг и data augmentation в реальном времени:\n",
        "    datagen = ImageDataGenerator(\n",
        "        featurewise_center=False,\n",
        "        samplewise_center=False,\n",
        "        featurewise_std_normalization=False,\n",
        "        samplewise_std_normalization=False,\n",
        "        zca_whitening=False, \n",
        "        zca_epsilon=1e-06, \n",
        "        rotation_range=5, \n",
        "        width_shift_range=0.1,\n",
        "        height_shift_range=0.1,\n",
        "        shear_range=0., \n",
        "        zoom_range=0., \n",
        "        channel_shift_range=0.,\n",
        "        fill_mode='nearest',\n",
        "        cval=0.,\n",
        "        horizontal_flip=True,\n",
        "        vertical_flip=False,\n",
        "        rescale=None,\n",
        "        preprocessing_function=None,\n",
        "        data_format=None,\n",
        "        validation_split=0.0)\n",
        "\n",
        "    # запуск data augmentation через fit\n",
        "    #datagen.fit(x_train)\n",
        "\n",
        "    # запуск data augmentation через fit_generator\n",
        "    model.fit_generator(datagen.flow(x_train, y_train,\n",
        "                                     batch_size=batch_size),\n",
        "                        epochs=epochs,\n",
        "                        validation_data=(x_test, y_test),\n",
        "                        workers=-1)\n",
        "\n",
        "# сохранение модели и весов\n",
        "if not os.path.isdir(save_dir):\n",
        "    os.makedirs(save_dir)\n",
        "model_path = os.path.join(save_dir, model_name)\n",
        "model.save(model_path)\n",
        "print('сохранить обученную модель как %s ' % model_path)\n",
        "\n",
        "# проверка работы обученной модели\n",
        "scores = model.evaluate(x_test, y_test, verbose=1)\n",
        "print('Test loss:', scores[0])\n",
        "print('Test accuracy:', scores[1])\"\"\""
      ],
      "metadata": {
        "colab": {
          "base_uri": "https://localhost:8080/",
          "height": 123
        },
        "id": "QN8-Gojm-BR1",
        "outputId": "e446ec03-b83e-4374-de12-695826e0f671"
      },
      "execution_count": 66,
      "outputs": [
        {
          "output_type": "execute_result",
          "data": {
            "text/plain": [
              "\"# конфигурирование слоев нейросети\\nmodel = Sequential()\\n\\n# слои нейросети отвественные за свертку и max-pooling\\nmodel.add(Conv2D(32, (3, 3), padding='same', input_shape=x_train.shape[1:]))\\nmodel.add(Activation('relu'))\\nmodel.add(Conv2D(32, (3, 3)))\\nmodel.add(Activation('relu'))\\nmodel.add(MaxPooling2D(pool_size=(2, 2)))\\nmodel.add(Dropout( 0.25))\\n\\nmodel.add(Conv2D(64, (3, 3), padding='same'))\\nmodel.add(Activation('relu'))\\nmodel.add(Conv2D(64, (3, 3)))\\nmodel.add(Activation('relu'))\\nmodel.add(MaxPooling2D(pool_size=(2, 2)))\\nmodel.add(Dropout(0.25))\\n\\n# полносвязные слои нейронной сети\\nmodel.add(Flatten())\\nmodel.add(Dense(512))\\nmodel.add(Activation('relu'))\\nmodel.add(Dropout(0.5))\\nmodel.add(Dense(num_classes))\\nmodel.add(Activation('softmax'))\\n\\n# инициализация RMSprop optimizer\\n#opt = tensorflow.keras.optimizers.RMSprop(lr=0.0001, decay=1e-6)\\n\\n# компиляция модели\\nmodel.compile(loss='categorical_crossentropy',\\n              optimizer='SGD',\\n              metrics=['accuracy'])\\n\\n\\n\\nif not data_augmentation:\\n    print('Не используется data augmentation')\\n    model.fit(x_train, y_train,\\n              batch_size=batch_size,\\n              epochs=epochs,\\n              validation_data=(x_test, y_test),\\n              shuffle=True)\\nelse:\\n    print('Использование data augmentation в реальном времени')\\n    # Препроцессинг и data augmentation в реальном времени:\\n    datagen = ImageDataGenerator(\\n        featurewise_center=False,\\n        samplewise_center=False,\\n        featurewise_std_normalization=False,\\n        samplewise_std_normalization=False,\\n        zca_whitening=False, \\n        zca_epsilon=1e-06, \\n        rotation_range=5, \\n        width_shift_range=0.1,\\n        height_shift_range=0.1,\\n        shear_range=0., \\n        zoom_range=0., \\n        channel_shift_range=0.,\\n        fill_mode='nearest',\\n        cval=0.,\\n        horizontal_flip=True,\\n        vertical_flip=False,\\n        rescale=None,\\n        preprocessing_function=None,\\n        data_format=None,\\n        validation_split=0.0)\\n\\n    # запуск data augmentation через fit\\n    #datagen.fit(x_train)\\n\\n    # запуск data augmentation через fit_generator\\n    model.fit_generator(datagen.flow(x_train, y_train,\\n                                     batch_size=batch_size),\\n                        epochs=epochs,\\n                        validation_data=(x_test, y_test),\\n                        workers=-1)\\n\\n# сохранение модели и весов\\nif not os.path.isdir(save_dir):\\n    os.makedirs(save_dir)\\nmodel_path = os.path.join(save_dir, model_name)\\nmodel.save(model_path)\\nprint('сохранить обученную модель как %s ' % model_path)\\n\\n# проверка работы обученной модели\\nscores = model.evaluate(x_test, y_test, verbose=1)\\nprint('Test loss:', scores[0])\\nprint('Test accuracy:', scores[1])\""
            ],
            "application/vnd.google.colaboratory.intrinsic+json": {
              "type": "string"
            }
          },
          "metadata": {},
          "execution_count": 66
        }
      ]
    },
    {
      "cell_type": "code",
      "source": [
        "num_conv_lauers_list = [0, 1 ,2]\n",
        "num_cores_list = [(2,2), (2,3), (3,3), (3,4), (4,4)]"
      ],
      "metadata": {
        "id": "LFBXIQpD-Idx"
      },
      "execution_count": 67,
      "outputs": []
    },
    {
      "cell_type": "code",
      "source": [
        "import itertools\n",
        "\n",
        "params_list = list(itertools.product(num_conv_lauers_list, num_cores_list))\n",
        "params_list[:]"
      ],
      "metadata": {
        "colab": {
          "base_uri": "https://localhost:8080/"
        },
        "id": "bdVNzGwl-3Dt",
        "outputId": "9f102600-af12-41dc-98d1-6d1c9eaf13ae"
      },
      "execution_count": 68,
      "outputs": [
        {
          "output_type": "execute_result",
          "data": {
            "text/plain": [
              "[(0, (2, 2)),\n",
              " (0, (2, 3)),\n",
              " (0, (3, 3)),\n",
              " (0, (3, 4)),\n",
              " (0, (4, 4)),\n",
              " (1, (2, 2)),\n",
              " (1, (2, 3)),\n",
              " (1, (3, 3)),\n",
              " (1, (3, 4)),\n",
              " (1, (4, 4)),\n",
              " (2, (2, 2)),\n",
              " (2, (2, 3)),\n",
              " (2, (3, 3)),\n",
              " (2, (3, 4)),\n",
              " (2, (4, 4))]"
            ]
          },
          "metadata": {},
          "execution_count": 68
        }
      ]
    },
    {
      "cell_type": "code",
      "source": [
        "rez_list = []"
      ],
      "metadata": {
        "id": "L2Ay7-ye_aM-"
      },
      "execution_count": 69,
      "outputs": []
    },
    {
      "cell_type": "code",
      "source": [
        "def get_num_layers(num_layer = None , num_cores = None):\n",
        "  model = Sequential()\n",
        "  model.add(Conv2D(32, num_cores, padding='same', input_shape=x_train.shape[1:]))\n",
        "  model.add(Activation('relu'))\n",
        "  model.add(Conv2D(32, num_cores))\n",
        "  model.add(Activation('relu'))\n",
        "  model.add(MaxPooling2D(pool_size=(2, 2)))\n",
        "  model.add(Dropout( 0.25))\n",
        "  #Изменяемое количество слоев\n",
        "  for _n in range(num_layer):\n",
        "    model.add(Conv2D(64, num_cores, padding='same'))\n",
        "    model.add(Activation('relu'))\n",
        "    model.add(Conv2D(64, num_cores))\n",
        "    model.add(Activation('relu'))\n",
        "    model.add(MaxPooling2D(pool_size=(2, 2)))\n",
        "    model.add(Dropout(0.25))\n",
        "\n",
        "  # полносвязные слои нейронной сети\n",
        "  model.add(Flatten())\n",
        "  model.add(Dense(512))\n",
        "  model.add(Activation('relu'))\n",
        "  model.add(Dropout(0.5))\n",
        "  model.add(Dense(num_classes))\n",
        "  model.add(Activation('softmax'))\n",
        "\n",
        "  # инициализация RMSprop optimizer\n",
        "  #opt = tensorflow.keras.optimizers.RMSprop(lr=0.0001, decay=1e-6)\n",
        "\n",
        "  # компиляция модели\n",
        "  model.compile(loss='categorical_crossentropy',\n",
        "                optimizer='SGD',\n",
        "                metrics=['accuracy'])\n",
        "  return model"
      ],
      "metadata": {
        "id": "-n3G1UA1Qi6U"
      },
      "execution_count": 70,
      "outputs": []
    },
    {
      "cell_type": "code",
      "source": [
        "model2 = get_num_layers(2, (2,2))\n",
        "model2.summary()"
      ],
      "metadata": {
        "id": "a-XCiLZISCzz"
      },
      "execution_count": null,
      "outputs": []
    },
    {
      "cell_type": "code",
      "source": [
        "for i in range(len(params_list)):\n",
        "  row_rez_list = []\n",
        "  row_rez_list.append(params_list[i][0])\n",
        "  print(params_list[i][0])\n",
        "  row_rez_list.append(params_list[i][1])\n",
        "  print(params_list[i][1])\n",
        "  ### Модель начало\n",
        "  model = get_num_layers(num_layer = params_list[i][0] , num_cores = params_list[i][1])\n",
        "\n",
        "  datagen = ImageDataGenerator(\n",
        "    featurewise_center=False,\n",
        "    samplewise_center=False,\n",
        "    featurewise_std_normalization=False,\n",
        "    samplewise_std_normalization=False,\n",
        "    zca_whitening=False, \n",
        "    zca_epsilon=1e-06, \n",
        "    rotation_range=5, \n",
        "    width_shift_range=0.1,\n",
        "    height_shift_range=0.1,\n",
        "    shear_range=0., \n",
        "    zoom_range=0., \n",
        "    channel_shift_range=0.,\n",
        "    fill_mode='nearest',\n",
        "    cval=0.,\n",
        "    horizontal_flip=True,\n",
        "    vertical_flip=False,\n",
        "    rescale=None,\n",
        "    preprocessing_function=None,\n",
        "    data_format=None,\n",
        "    validation_split=0.0)\n",
        "\n",
        "    # запуск data augmentation через fit\n",
        "    #datagen.fit(x_train)\n",
        "\n",
        "    # запуск data augmentation через fit_generator\n",
        "  model.fit_generator(datagen.flow(x_train, y_train,\n",
        "                                    batch_size=batch_size),\n",
        "                      epochs=epochs,\n",
        "                      validation_data=(x_test, y_test),\n",
        "                      workers=-1)\n",
        "\n",
        "# проверка работы обученной модели\n",
        "  scores = model.evaluate(x_test, y_test, verbose=1)\n",
        "  print('Test loss:', scores[0])\n",
        "  print('Test accuracy:', scores[1])\n",
        "  row_rez_list.append(scores[0])\n",
        "  row_rez_list.append(scores[1])\n",
        "  ### Модель конец\n",
        "\n",
        "  rez_list.append(row_rez_list)\n",
        "print(rez_list)\n"
      ],
      "metadata": {
        "colab": {
          "base_uri": "https://localhost:8080/"
        },
        "id": "Szy3_XLT_NfO",
        "outputId": "082e632c-4198-44b5-ecbe-4058c96df2f0"
      },
      "execution_count": 72,
      "outputs": [
        {
          "output_type": "stream",
          "name": "stdout",
          "text": [
            "0\n",
            "(2, 2)\n"
          ]
        },
        {
          "output_type": "stream",
          "name": "stderr",
          "text": [
            "/usr/local/lib/python3.7/dist-packages/ipykernel_launcher.py:40: UserWarning: `Model.fit_generator` is deprecated and will be removed in a future version. Please use `Model.fit`, which supports generators.\n"
          ]
        },
        {
          "output_type": "stream",
          "name": "stdout",
          "text": [
            "1563/1563 [==============================] - 165s 105ms/step - loss: 2.0142 - accuracy: 0.2711 - val_loss: 1.7274 - val_accuracy: 0.3950\n",
            "313/313 [==============================] - 7s 22ms/step - loss: 1.7274 - accuracy: 0.3950\n",
            "Test loss: 1.7274270057678223\n",
            "Test accuracy: 0.39500001072883606\n",
            "0\n",
            "(2, 3)\n",
            "1563/1563 [==============================] - 176s 112ms/step - loss: 1.9951 - accuracy: 0.2740 - val_loss: 1.7284 - val_accuracy: 0.3900\n",
            "313/313 [==============================] - 7s 23ms/step - loss: 1.7284 - accuracy: 0.3900\n",
            "Test loss: 1.728371262550354\n",
            "Test accuracy: 0.38999998569488525\n",
            "0\n",
            "(3, 3)\n",
            "1563/1563 [==============================] - 200s 128ms/step - loss: 1.9737 - accuracy: 0.2854 - val_loss: 1.6811 - val_accuracy: 0.4125\n",
            "313/313 [==============================] - 9s 27ms/step - loss: 1.6811 - accuracy: 0.4125\n",
            "Test loss: 1.6811002492904663\n",
            "Test accuracy: 0.4124999940395355\n",
            "0\n",
            "(3, 4)\n",
            "1563/1563 [==============================] - 227s 145ms/step - loss: 1.9568 - accuracy: 0.2865 - val_loss: 1.6332 - val_accuracy: 0.4233\n",
            "313/313 [==============================] - 10s 31ms/step - loss: 1.6332 - accuracy: 0.4233\n",
            "Test loss: 1.63321053981781\n",
            "Test accuracy: 0.42329999804496765\n",
            "0\n",
            "(4, 4)\n",
            "1563/1563 [==============================] - 261s 166ms/step - loss: 1.9977 - accuracy: 0.2683 - val_loss: 1.6492 - val_accuracy: 0.4216\n",
            "313/313 [==============================] - 11s 34ms/step - loss: 1.6492 - accuracy: 0.4216\n",
            "Test loss: 1.6491738557815552\n",
            "Test accuracy: 0.42160001397132874\n",
            "1\n",
            "(2, 2)\n",
            "1563/1563 [==============================] - 187s 119ms/step - loss: 2.1274 - accuracy: 0.2073 - val_loss: 1.9219 - val_accuracy: 0.3194\n",
            "313/313 [==============================] - 8s 26ms/step - loss: 1.9219 - accuracy: 0.3194\n",
            "Test loss: 1.9218719005584717\n",
            "Test accuracy: 0.31940001249313354\n",
            "1\n",
            "(2, 3)\n",
            "1563/1563 [==============================] - 214s 136ms/step - loss: 2.1083 - accuracy: 0.2219 - val_loss: 1.9424 - val_accuracy: 0.3052\n",
            "313/313 [==============================] - 10s 31ms/step - loss: 1.9424 - accuracy: 0.3052\n",
            "Test loss: 1.9423855543136597\n",
            "Test accuracy: 0.3052000105381012\n",
            "1\n",
            "(3, 3)\n",
            "1563/1563 [==============================] - 266s 170ms/step - loss: 2.1430 - accuracy: 0.2016 - val_loss: 1.9482 - val_accuracy: 0.3149\n",
            "313/313 [==============================] - 12s 38ms/step - loss: 1.9482 - accuracy: 0.3149\n",
            "Test loss: 1.948181390762329\n",
            "Test accuracy: 0.3149000108242035\n",
            "1\n",
            "(3, 4)\n",
            "1563/1563 [==============================] - 308s 197ms/step - loss: 2.1243 - accuracy: 0.2062 - val_loss: 1.9555 - val_accuracy: 0.2901\n",
            "313/313 [==============================] - 14s 44ms/step - loss: 1.9555 - accuracy: 0.2901\n",
            "Test loss: 1.9554548263549805\n",
            "Test accuracy: 0.29010000824928284\n",
            "1\n",
            "(4, 4)\n",
            "1563/1563 [==============================] - 375s 240ms/step - loss: 2.1079 - accuracy: 0.2094 - val_loss: 1.8280 - val_accuracy: 0.3470\n",
            "313/313 [==============================] - 15s 48ms/step - loss: 1.8280 - accuracy: 0.3470\n",
            "Test loss: 1.8280494213104248\n",
            "Test accuracy: 0.34700000286102295\n",
            "2\n",
            "(2, 2)\n",
            "1563/1563 [==============================] - 190s 121ms/step - loss: 2.2355 - accuracy: 0.1533 - val_loss: 2.0673 - val_accuracy: 0.2530\n",
            "313/313 [==============================] - 9s 27ms/step - loss: 2.0673 - accuracy: 0.2530\n",
            "Test loss: 2.0673317909240723\n",
            "Test accuracy: 0.2529999911785126\n",
            "2\n",
            "(2, 3)\n",
            "1563/1563 [==============================] - 220s 140ms/step - loss: 2.2316 - accuracy: 0.1511 - val_loss: 2.0471 - val_accuracy: 0.2415\n",
            "313/313 [==============================] - 9s 30ms/step - loss: 2.0471 - accuracy: 0.2415\n",
            "Test loss: 2.047149419784546\n",
            "Test accuracy: 0.24150000512599945\n",
            "2\n",
            "(3, 3)\n",
            "1563/1563 [==============================] - 279s 178ms/step - loss: 2.2232 - accuracy: 0.1566 - val_loss: 2.1017 - val_accuracy: 0.2157\n",
            "313/313 [==============================] - 12s 37ms/step - loss: 2.1017 - accuracy: 0.2157\n",
            "Test loss: 2.1017401218414307\n",
            "Test accuracy: 0.21570000052452087\n",
            "2\n",
            "(3, 4)\n",
            "1563/1563 [==============================] - 318s 203ms/step - loss: 2.2351 - accuracy: 0.1467 - val_loss: 2.0601 - val_accuracy: 0.2317\n",
            "313/313 [==============================] - 14s 43ms/step - loss: 2.0601 - accuracy: 0.2317\n",
            "Test loss: 2.0600743293762207\n",
            "Test accuracy: 0.23170000314712524\n",
            "2\n",
            "(4, 4)\n",
            "1563/1563 [==============================] - 386s 246ms/step - loss: 2.2531 - accuracy: 0.1407 - val_loss: 2.1122 - val_accuracy: 0.2252\n",
            "313/313 [==============================] - 15s 49ms/step - loss: 2.1122 - accuracy: 0.2252\n",
            "Test loss: 2.112156867980957\n",
            "Test accuracy: 0.22519999742507935\n",
            "[[0, (2, 2), 1.7274270057678223, 0.39500001072883606], [0, (2, 3), 1.728371262550354, 0.38999998569488525], [0, (3, 3), 1.6811002492904663, 0.4124999940395355], [0, (3, 4), 1.63321053981781, 0.42329999804496765], [0, (4, 4), 1.6491738557815552, 0.42160001397132874], [1, (2, 2), 1.9218719005584717, 0.31940001249313354], [1, (2, 3), 1.9423855543136597, 0.3052000105381012], [1, (3, 3), 1.948181390762329, 0.3149000108242035], [1, (3, 4), 1.9554548263549805, 0.29010000824928284], [1, (4, 4), 1.8280494213104248, 0.34700000286102295], [2, (2, 2), 2.0673317909240723, 0.2529999911785126], [2, (2, 3), 2.047149419784546, 0.24150000512599945], [2, (3, 3), 2.1017401218414307, 0.21570000052452087], [2, (3, 4), 2.0600743293762207, 0.23170000314712524], [2, (4, 4), 2.112156867980957, 0.22519999742507935]]\n"
          ]
        }
      ]
    },
    {
      "cell_type": "code",
      "source": [
        "import pandas as pd"
      ],
      "metadata": {
        "id": "pWFbiQpInf78"
      },
      "execution_count": 73,
      "outputs": []
    },
    {
      "cell_type": "code",
      "source": [
        "columns_params = ['num_layers', 'num_cores','loss','acuracy']\n",
        "df_rez = pd.DataFrame(rez_list, columns = columns_params)\n",
        "df_rez"
      ],
      "metadata": {
        "colab": {
          "base_uri": "https://localhost:8080/",
          "height": 520
        },
        "id": "QhWafaAKmdbd",
        "outputId": "b50e36b5-df9b-44da-ca72-6ff6337b5d6a"
      },
      "execution_count": 75,
      "outputs": [
        {
          "output_type": "execute_result",
          "data": {
            "text/plain": [
              "    num_layers num_cores      loss  acuracy\n",
              "0            0    (2, 2)  1.727427   0.3950\n",
              "1            0    (2, 3)  1.728371   0.3900\n",
              "2            0    (3, 3)  1.681100   0.4125\n",
              "3            0    (3, 4)  1.633211   0.4233\n",
              "4            0    (4, 4)  1.649174   0.4216\n",
              "5            1    (2, 2)  1.921872   0.3194\n",
              "6            1    (2, 3)  1.942386   0.3052\n",
              "7            1    (3, 3)  1.948181   0.3149\n",
              "8            1    (3, 4)  1.955455   0.2901\n",
              "9            1    (4, 4)  1.828049   0.3470\n",
              "10           2    (2, 2)  2.067332   0.2530\n",
              "11           2    (2, 3)  2.047149   0.2415\n",
              "12           2    (3, 3)  2.101740   0.2157\n",
              "13           2    (3, 4)  2.060074   0.2317\n",
              "14           2    (4, 4)  2.112157   0.2252"
            ],
            "text/html": [
              "\n",
              "  <div id=\"df-5042e1d8-9e0b-47d2-8e83-c52936ac62bb\">\n",
              "    <div class=\"colab-df-container\">\n",
              "      <div>\n",
              "<style scoped>\n",
              "    .dataframe tbody tr th:only-of-type {\n",
              "        vertical-align: middle;\n",
              "    }\n",
              "\n",
              "    .dataframe tbody tr th {\n",
              "        vertical-align: top;\n",
              "    }\n",
              "\n",
              "    .dataframe thead th {\n",
              "        text-align: right;\n",
              "    }\n",
              "</style>\n",
              "<table border=\"1\" class=\"dataframe\">\n",
              "  <thead>\n",
              "    <tr style=\"text-align: right;\">\n",
              "      <th></th>\n",
              "      <th>num_layers</th>\n",
              "      <th>num_cores</th>\n",
              "      <th>loss</th>\n",
              "      <th>acuracy</th>\n",
              "    </tr>\n",
              "  </thead>\n",
              "  <tbody>\n",
              "    <tr>\n",
              "      <th>0</th>\n",
              "      <td>0</td>\n",
              "      <td>(2, 2)</td>\n",
              "      <td>1.727427</td>\n",
              "      <td>0.3950</td>\n",
              "    </tr>\n",
              "    <tr>\n",
              "      <th>1</th>\n",
              "      <td>0</td>\n",
              "      <td>(2, 3)</td>\n",
              "      <td>1.728371</td>\n",
              "      <td>0.3900</td>\n",
              "    </tr>\n",
              "    <tr>\n",
              "      <th>2</th>\n",
              "      <td>0</td>\n",
              "      <td>(3, 3)</td>\n",
              "      <td>1.681100</td>\n",
              "      <td>0.4125</td>\n",
              "    </tr>\n",
              "    <tr>\n",
              "      <th>3</th>\n",
              "      <td>0</td>\n",
              "      <td>(3, 4)</td>\n",
              "      <td>1.633211</td>\n",
              "      <td>0.4233</td>\n",
              "    </tr>\n",
              "    <tr>\n",
              "      <th>4</th>\n",
              "      <td>0</td>\n",
              "      <td>(4, 4)</td>\n",
              "      <td>1.649174</td>\n",
              "      <td>0.4216</td>\n",
              "    </tr>\n",
              "    <tr>\n",
              "      <th>5</th>\n",
              "      <td>1</td>\n",
              "      <td>(2, 2)</td>\n",
              "      <td>1.921872</td>\n",
              "      <td>0.3194</td>\n",
              "    </tr>\n",
              "    <tr>\n",
              "      <th>6</th>\n",
              "      <td>1</td>\n",
              "      <td>(2, 3)</td>\n",
              "      <td>1.942386</td>\n",
              "      <td>0.3052</td>\n",
              "    </tr>\n",
              "    <tr>\n",
              "      <th>7</th>\n",
              "      <td>1</td>\n",
              "      <td>(3, 3)</td>\n",
              "      <td>1.948181</td>\n",
              "      <td>0.3149</td>\n",
              "    </tr>\n",
              "    <tr>\n",
              "      <th>8</th>\n",
              "      <td>1</td>\n",
              "      <td>(3, 4)</td>\n",
              "      <td>1.955455</td>\n",
              "      <td>0.2901</td>\n",
              "    </tr>\n",
              "    <tr>\n",
              "      <th>9</th>\n",
              "      <td>1</td>\n",
              "      <td>(4, 4)</td>\n",
              "      <td>1.828049</td>\n",
              "      <td>0.3470</td>\n",
              "    </tr>\n",
              "    <tr>\n",
              "      <th>10</th>\n",
              "      <td>2</td>\n",
              "      <td>(2, 2)</td>\n",
              "      <td>2.067332</td>\n",
              "      <td>0.2530</td>\n",
              "    </tr>\n",
              "    <tr>\n",
              "      <th>11</th>\n",
              "      <td>2</td>\n",
              "      <td>(2, 3)</td>\n",
              "      <td>2.047149</td>\n",
              "      <td>0.2415</td>\n",
              "    </tr>\n",
              "    <tr>\n",
              "      <th>12</th>\n",
              "      <td>2</td>\n",
              "      <td>(3, 3)</td>\n",
              "      <td>2.101740</td>\n",
              "      <td>0.2157</td>\n",
              "    </tr>\n",
              "    <tr>\n",
              "      <th>13</th>\n",
              "      <td>2</td>\n",
              "      <td>(3, 4)</td>\n",
              "      <td>2.060074</td>\n",
              "      <td>0.2317</td>\n",
              "    </tr>\n",
              "    <tr>\n",
              "      <th>14</th>\n",
              "      <td>2</td>\n",
              "      <td>(4, 4)</td>\n",
              "      <td>2.112157</td>\n",
              "      <td>0.2252</td>\n",
              "    </tr>\n",
              "  </tbody>\n",
              "</table>\n",
              "</div>\n",
              "      <button class=\"colab-df-convert\" onclick=\"convertToInteractive('df-5042e1d8-9e0b-47d2-8e83-c52936ac62bb')\"\n",
              "              title=\"Convert this dataframe to an interactive table.\"\n",
              "              style=\"display:none;\">\n",
              "        \n",
              "  <svg xmlns=\"http://www.w3.org/2000/svg\" height=\"24px\"viewBox=\"0 0 24 24\"\n",
              "       width=\"24px\">\n",
              "    <path d=\"M0 0h24v24H0V0z\" fill=\"none\"/>\n",
              "    <path d=\"M18.56 5.44l.94 2.06.94-2.06 2.06-.94-2.06-.94-.94-2.06-.94 2.06-2.06.94zm-11 1L8.5 8.5l.94-2.06 2.06-.94-2.06-.94L8.5 2.5l-.94 2.06-2.06.94zm10 10l.94 2.06.94-2.06 2.06-.94-2.06-.94-.94-2.06-.94 2.06-2.06.94z\"/><path d=\"M17.41 7.96l-1.37-1.37c-.4-.4-.92-.59-1.43-.59-.52 0-1.04.2-1.43.59L10.3 9.45l-7.72 7.72c-.78.78-.78 2.05 0 2.83L4 21.41c.39.39.9.59 1.41.59.51 0 1.02-.2 1.41-.59l7.78-7.78 2.81-2.81c.8-.78.8-2.07 0-2.86zM5.41 20L4 18.59l7.72-7.72 1.47 1.35L5.41 20z\"/>\n",
              "  </svg>\n",
              "      </button>\n",
              "      \n",
              "  <style>\n",
              "    .colab-df-container {\n",
              "      display:flex;\n",
              "      flex-wrap:wrap;\n",
              "      gap: 12px;\n",
              "    }\n",
              "\n",
              "    .colab-df-convert {\n",
              "      background-color: #E8F0FE;\n",
              "      border: none;\n",
              "      border-radius: 50%;\n",
              "      cursor: pointer;\n",
              "      display: none;\n",
              "      fill: #1967D2;\n",
              "      height: 32px;\n",
              "      padding: 0 0 0 0;\n",
              "      width: 32px;\n",
              "    }\n",
              "\n",
              "    .colab-df-convert:hover {\n",
              "      background-color: #E2EBFA;\n",
              "      box-shadow: 0px 1px 2px rgba(60, 64, 67, 0.3), 0px 1px 3px 1px rgba(60, 64, 67, 0.15);\n",
              "      fill: #174EA6;\n",
              "    }\n",
              "\n",
              "    [theme=dark] .colab-df-convert {\n",
              "      background-color: #3B4455;\n",
              "      fill: #D2E3FC;\n",
              "    }\n",
              "\n",
              "    [theme=dark] .colab-df-convert:hover {\n",
              "      background-color: #434B5C;\n",
              "      box-shadow: 0px 1px 3px 1px rgba(0, 0, 0, 0.15);\n",
              "      filter: drop-shadow(0px 1px 2px rgba(0, 0, 0, 0.3));\n",
              "      fill: #FFFFFF;\n",
              "    }\n",
              "  </style>\n",
              "\n",
              "      <script>\n",
              "        const buttonEl =\n",
              "          document.querySelector('#df-5042e1d8-9e0b-47d2-8e83-c52936ac62bb button.colab-df-convert');\n",
              "        buttonEl.style.display =\n",
              "          google.colab.kernel.accessAllowed ? 'block' : 'none';\n",
              "\n",
              "        async function convertToInteractive(key) {\n",
              "          const element = document.querySelector('#df-5042e1d8-9e0b-47d2-8e83-c52936ac62bb');\n",
              "          const dataTable =\n",
              "            await google.colab.kernel.invokeFunction('convertToInteractive',\n",
              "                                                     [key], {});\n",
              "          if (!dataTable) return;\n",
              "\n",
              "          const docLinkHtml = 'Like what you see? Visit the ' +\n",
              "            '<a target=\"_blank\" href=https://colab.research.google.com/notebooks/data_table.ipynb>data table notebook</a>'\n",
              "            + ' to learn more about interactive tables.';\n",
              "          element.innerHTML = '';\n",
              "          dataTable['output_type'] = 'display_data';\n",
              "          await google.colab.output.renderOutput(dataTable, element);\n",
              "          const docLink = document.createElement('div');\n",
              "          docLink.innerHTML = docLinkHtml;\n",
              "          element.appendChild(docLink);\n",
              "        }\n",
              "      </script>\n",
              "    </div>\n",
              "  </div>\n",
              "  "
            ]
          },
          "metadata": {},
          "execution_count": 75
        }
      ]
    },
    {
      "cell_type": "markdown",
      "source": [
        "1.Увеличение ширины сети ведет к повышению точности <br>\n",
        "2.Увеличение глубины сети ведет к уменьшению точности"
      ],
      "metadata": {
        "id": "WHLxWXLSnu6v"
      }
    }
  ],
  "metadata": {
    "accelerator": "GPU",
    "colab": {
      "collapsed_sections": [],
      "name": "HW_Lesson4.ipynb",
      "provenance": []
    },
    "kernelspec": {
      "display_name": "Python 3",
      "language": "python",
      "name": "python3"
    },
    "language_info": {
      "codemirror_mode": {
        "name": "ipython",
        "version": 3
      },
      "file_extension": ".py",
      "mimetype": "text/x-python",
      "name": "python",
      "nbconvert_exporter": "python",
      "pygments_lexer": "ipython3",
      "version": "3.8.5"
    }
  },
  "nbformat": 4,
  "nbformat_minor": 0
}