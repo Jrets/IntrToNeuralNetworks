{
  "nbformat": 4,
  "nbformat_minor": 0,
  "metadata": {
    "colab": {
      "name": "HW_L5.ipynb",
      "provenance": [],
      "collapsed_sections": []
    },
    "kernelspec": {
      "name": "python3",
      "display_name": "Python 3"
    },
    "language_info": {
      "name": "python"
    }
  },
  "cells": [
    {
      "cell_type": "code",
      "execution_count": 259,
      "metadata": {
        "id": "nlJ581q5_PlN"
      },
      "outputs": [],
      "source": [
        "import numpy as np\n",
        "import matplotlib.pyplot as plt\n",
        "from pandas import read_csv\n",
        "import math\n",
        "from sklearn.model_selection import train_test_split\n",
        "from sklearn.preprocessing import MinMaxScaler, StandardScaler\n",
        "from sklearn.metrics import mean_squared_error\n",
        "\n",
        "from keras.models import Sequential\n",
        "from keras.layers import Dense\n",
        "from keras.layers import LSTM"
      ]
    },
    {
      "cell_type": "code",
      "source": [
        "sourse_data = read_csv('/content/sample_data/airline-passengers.csv')\n",
        "sourse_data"
      ],
      "metadata": {
        "colab": {
          "base_uri": "https://localhost:8080/",
          "height": 424
        },
        "id": "ooFVLa-J_b79",
        "outputId": "cbef7c7f-0c6a-42c6-e544-a4ddb222302a"
      },
      "execution_count": 260,
      "outputs": [
        {
          "output_type": "execute_result",
          "data": {
            "text/plain": [
              "       Month  Passengers\n",
              "0    1949-01         112\n",
              "1    1949-02         118\n",
              "2    1949-03         132\n",
              "3    1949-04         129\n",
              "4    1949-05         121\n",
              "..       ...         ...\n",
              "139  1960-08         606\n",
              "140  1960-09         508\n",
              "141  1960-10         461\n",
              "142  1960-11         390\n",
              "143  1960-12         432\n",
              "\n",
              "[144 rows x 2 columns]"
            ],
            "text/html": [
              "\n",
              "  <div id=\"df-57f6569a-84db-4bea-b183-9d11afa417b2\">\n",
              "    <div class=\"colab-df-container\">\n",
              "      <div>\n",
              "<style scoped>\n",
              "    .dataframe tbody tr th:only-of-type {\n",
              "        vertical-align: middle;\n",
              "    }\n",
              "\n",
              "    .dataframe tbody tr th {\n",
              "        vertical-align: top;\n",
              "    }\n",
              "\n",
              "    .dataframe thead th {\n",
              "        text-align: right;\n",
              "    }\n",
              "</style>\n",
              "<table border=\"1\" class=\"dataframe\">\n",
              "  <thead>\n",
              "    <tr style=\"text-align: right;\">\n",
              "      <th></th>\n",
              "      <th>Month</th>\n",
              "      <th>Passengers</th>\n",
              "    </tr>\n",
              "  </thead>\n",
              "  <tbody>\n",
              "    <tr>\n",
              "      <th>0</th>\n",
              "      <td>1949-01</td>\n",
              "      <td>112</td>\n",
              "    </tr>\n",
              "    <tr>\n",
              "      <th>1</th>\n",
              "      <td>1949-02</td>\n",
              "      <td>118</td>\n",
              "    </tr>\n",
              "    <tr>\n",
              "      <th>2</th>\n",
              "      <td>1949-03</td>\n",
              "      <td>132</td>\n",
              "    </tr>\n",
              "    <tr>\n",
              "      <th>3</th>\n",
              "      <td>1949-04</td>\n",
              "      <td>129</td>\n",
              "    </tr>\n",
              "    <tr>\n",
              "      <th>4</th>\n",
              "      <td>1949-05</td>\n",
              "      <td>121</td>\n",
              "    </tr>\n",
              "    <tr>\n",
              "      <th>...</th>\n",
              "      <td>...</td>\n",
              "      <td>...</td>\n",
              "    </tr>\n",
              "    <tr>\n",
              "      <th>139</th>\n",
              "      <td>1960-08</td>\n",
              "      <td>606</td>\n",
              "    </tr>\n",
              "    <tr>\n",
              "      <th>140</th>\n",
              "      <td>1960-09</td>\n",
              "      <td>508</td>\n",
              "    </tr>\n",
              "    <tr>\n",
              "      <th>141</th>\n",
              "      <td>1960-10</td>\n",
              "      <td>461</td>\n",
              "    </tr>\n",
              "    <tr>\n",
              "      <th>142</th>\n",
              "      <td>1960-11</td>\n",
              "      <td>390</td>\n",
              "    </tr>\n",
              "    <tr>\n",
              "      <th>143</th>\n",
              "      <td>1960-12</td>\n",
              "      <td>432</td>\n",
              "    </tr>\n",
              "  </tbody>\n",
              "</table>\n",
              "<p>144 rows × 2 columns</p>\n",
              "</div>\n",
              "      <button class=\"colab-df-convert\" onclick=\"convertToInteractive('df-57f6569a-84db-4bea-b183-9d11afa417b2')\"\n",
              "              title=\"Convert this dataframe to an interactive table.\"\n",
              "              style=\"display:none;\">\n",
              "        \n",
              "  <svg xmlns=\"http://www.w3.org/2000/svg\" height=\"24px\"viewBox=\"0 0 24 24\"\n",
              "       width=\"24px\">\n",
              "    <path d=\"M0 0h24v24H0V0z\" fill=\"none\"/>\n",
              "    <path d=\"M18.56 5.44l.94 2.06.94-2.06 2.06-.94-2.06-.94-.94-2.06-.94 2.06-2.06.94zm-11 1L8.5 8.5l.94-2.06 2.06-.94-2.06-.94L8.5 2.5l-.94 2.06-2.06.94zm10 10l.94 2.06.94-2.06 2.06-.94-2.06-.94-.94-2.06-.94 2.06-2.06.94z\"/><path d=\"M17.41 7.96l-1.37-1.37c-.4-.4-.92-.59-1.43-.59-.52 0-1.04.2-1.43.59L10.3 9.45l-7.72 7.72c-.78.78-.78 2.05 0 2.83L4 21.41c.39.39.9.59 1.41.59.51 0 1.02-.2 1.41-.59l7.78-7.78 2.81-2.81c.8-.78.8-2.07 0-2.86zM5.41 20L4 18.59l7.72-7.72 1.47 1.35L5.41 20z\"/>\n",
              "  </svg>\n",
              "      </button>\n",
              "      \n",
              "  <style>\n",
              "    .colab-df-container {\n",
              "      display:flex;\n",
              "      flex-wrap:wrap;\n",
              "      gap: 12px;\n",
              "    }\n",
              "\n",
              "    .colab-df-convert {\n",
              "      background-color: #E8F0FE;\n",
              "      border: none;\n",
              "      border-radius: 50%;\n",
              "      cursor: pointer;\n",
              "      display: none;\n",
              "      fill: #1967D2;\n",
              "      height: 32px;\n",
              "      padding: 0 0 0 0;\n",
              "      width: 32px;\n",
              "    }\n",
              "\n",
              "    .colab-df-convert:hover {\n",
              "      background-color: #E2EBFA;\n",
              "      box-shadow: 0px 1px 2px rgba(60, 64, 67, 0.3), 0px 1px 3px 1px rgba(60, 64, 67, 0.15);\n",
              "      fill: #174EA6;\n",
              "    }\n",
              "\n",
              "    [theme=dark] .colab-df-convert {\n",
              "      background-color: #3B4455;\n",
              "      fill: #D2E3FC;\n",
              "    }\n",
              "\n",
              "    [theme=dark] .colab-df-convert:hover {\n",
              "      background-color: #434B5C;\n",
              "      box-shadow: 0px 1px 3px 1px rgba(0, 0, 0, 0.15);\n",
              "      filter: drop-shadow(0px 1px 2px rgba(0, 0, 0, 0.3));\n",
              "      fill: #FFFFFF;\n",
              "    }\n",
              "  </style>\n",
              "\n",
              "      <script>\n",
              "        const buttonEl =\n",
              "          document.querySelector('#df-57f6569a-84db-4bea-b183-9d11afa417b2 button.colab-df-convert');\n",
              "        buttonEl.style.display =\n",
              "          google.colab.kernel.accessAllowed ? 'block' : 'none';\n",
              "\n",
              "        async function convertToInteractive(key) {\n",
              "          const element = document.querySelector('#df-57f6569a-84db-4bea-b183-9d11afa417b2');\n",
              "          const dataTable =\n",
              "            await google.colab.kernel.invokeFunction('convertToInteractive',\n",
              "                                                     [key], {});\n",
              "          if (!dataTable) return;\n",
              "\n",
              "          const docLinkHtml = 'Like what you see? Visit the ' +\n",
              "            '<a target=\"_blank\" href=https://colab.research.google.com/notebooks/data_table.ipynb>data table notebook</a>'\n",
              "            + ' to learn more about interactive tables.';\n",
              "          element.innerHTML = '';\n",
              "          dataTable['output_type'] = 'display_data';\n",
              "          await google.colab.output.renderOutput(dataTable, element);\n",
              "          const docLink = document.createElement('div');\n",
              "          docLink.innerHTML = docLinkHtml;\n",
              "          element.appendChild(docLink);\n",
              "        }\n",
              "      </script>\n",
              "    </div>\n",
              "  </div>\n",
              "  "
            ]
          },
          "metadata": {},
          "execution_count": 260
        }
      ]
    },
    {
      "cell_type": "code",
      "source": [
        "num_passengers = sourse_data.iloc[:,1].values\n",
        "plt.plot(num_passengers)\n",
        "plt.xlabel('Month')\n",
        "plt.ylabel('Passengers')\n",
        "plt.show()"
      ],
      "metadata": {
        "colab": {
          "base_uri": "https://localhost:8080/",
          "height": 279
        },
        "id": "765NF_jugyPe",
        "outputId": "d5a84b0f-25b5-43d6-c912-ce166b283447"
      },
      "execution_count": 261,
      "outputs": [
        {
          "output_type": "display_data",
          "data": {
            "text/plain": [
              "<Figure size 432x288 with 1 Axes>"
            ],
            "image/png": "[encoded data removed]"
          },
          "metadata": {
            "needs_background": "light"
          }
        }
      ]
    },
    {
      "cell_type": "code",
      "source": [
        "num_passengers = num_passengers.reshape(-1,1).astype('float32')\n",
        "num_passengers.shape"
      ],
      "metadata": {
        "colab": {
          "base_uri": "https://localhost:8080/"
        },
        "id": "P2lJrhBxhurh",
        "outputId": "a6062925-c138-4a26-a0c3-4d8cf5bc2412"
      },
      "execution_count": 262,
      "outputs": [
        {
          "output_type": "execute_result",
          "data": {
            "text/plain": [
              "(144, 1)"
            ]
          },
          "metadata": {},
          "execution_count": 262
        }
      ]
    },
    {
      "cell_type": "code",
      "source": [
        "scaler = MinMaxScaler(feature_range=(0,1)) #StandardScaler()\n",
        "num_passengers = scaler.fit_transform(num_passengers)"
      ],
      "metadata": {
        "id": "uHSNwToiiH-l"
      },
      "execution_count": 263,
      "outputs": []
    },
    {
      "cell_type": "code",
      "source": [
        "#train, test = train_test_split(num_passengers, test_size=0.25)"
      ],
      "metadata": {
        "id": "VePRWl1Sj0i_"
      },
      "execution_count": 264,
      "outputs": []
    },
    {
      "cell_type": "code",
      "source": [
        "train_size = int(len(num_passengers)*0.75)\n",
        "test_size = len(num_passengers) - train_size\n",
        "train = num_passengers[0:train_size]\n",
        "test = num_passengers[train_size:len(num_passengers)]"
      ],
      "metadata": {
        "id": "uswtCT0dHpQA"
      },
      "execution_count": 265,
      "outputs": []
    },
    {
      "cell_type": "code",
      "source": [
        "def get_set(sourse_set = None, time_stamp=None):\n",
        "\tX, y = [], []\n",
        "\tfor i in range(len(sourse_set)-time_stamp-1):\n",
        "\t\tX.append(sourse_set[i:(i+time_stamp), 0])\n",
        "\t\ty.append(sourse_set[i + time_stamp, 0])\n",
        "\treturn np.array(X), np.array(y)"
      ],
      "metadata": {
        "id": "6JQNpwk0Kc-w"
      },
      "execution_count": 266,
      "outputs": []
    },
    {
      "cell_type": "code",
      "source": [
        "time_stamp = 10\n",
        "X_train, y_train = get_set(train, time_stamp)\n",
        "X_test, y_test = get_set(test, time_stamp)"
      ],
      "metadata": {
        "id": "Erh_CarWKds_"
      },
      "execution_count": 267,
      "outputs": []
    },
    {
      "cell_type": "code",
      "source": [
        "X_train = np.reshape(X_train,(X_train.shape[0],1,X_train.shape[1]))\n",
        "X_test = np.reshape(X_test,(X_test.shape[0],1,X_test.shape[1]))"
      ],
      "metadata": {
        "id": "ewehA7mXH-Fu"
      },
      "execution_count": 268,
      "outputs": []
    },
    {
      "cell_type": "code",
      "source": [
        "# model\n",
        "model = Sequential()\n",
        "model.add(LSTM(10, input_shape=(1, time_stamp)))\n",
        "model.add(Dense(1))\n",
        "model.compile(loss='mean_squared_error', optimizer='adam')\n",
        "model.fit(X_train, y_train, epochs=70, batch_size=1)"
      ],
      "metadata": {
        "colab": {
          "base_uri": "https://localhost:8080/"
        },
        "id": "Q654mC6VIOPT",
        "outputId": "4a4540d2-5836-4091-b5ff-9369b4c18056"
      },
      "execution_count": 269,
      "outputs": [
        {
          "output_type": "stream",
          "name": "stdout",
          "text": [
            "Epoch 1/70\n",
            "97/97 [==============================] - 2s 2ms/step - loss: 0.0447\n",
            "Epoch 2/70\n",
            "97/97 [==============================] - 0s 2ms/step - loss: 0.0094\n",
            "Epoch 3/70\n",
            "97/97 [==============================] - 0s 2ms/step - loss: 0.0075\n",
            "Epoch 4/70\n",
            "97/97 [==============================] - 0s 2ms/step - loss: 0.0066\n",
            "Epoch 5/70\n",
            "97/97 [==============================] - 0s 2ms/step - loss: 0.0058\n",
            "Epoch 6/70\n",
            "97/97 [==============================] - 0s 2ms/step - loss: 0.0056\n",
            "Epoch 7/70\n",
            "97/97 [==============================] - 0s 2ms/step - loss: 0.0052\n",
            "Epoch 8/70\n",
            "97/97 [==============================] - 0s 2ms/step - loss: 0.0048\n",
            "Epoch 9/70\n",
            "97/97 [==============================] - 0s 2ms/step - loss: 0.0048\n",
            "Epoch 10/70\n",
            "97/97 [==============================] - 0s 2ms/step - loss: 0.0046\n",
            "Epoch 11/70\n",
            "97/97 [==============================] - 0s 2ms/step - loss: 0.0044\n",
            "Epoch 12/70\n",
            "97/97 [==============================] - 0s 2ms/step - loss: 0.0043\n",
            "Epoch 13/70\n",
            "97/97 [==============================] - 0s 2ms/step - loss: 0.0040\n",
            "Epoch 14/70\n",
            "97/97 [==============================] - 0s 2ms/step - loss: 0.0039\n",
            "Epoch 15/70\n",
            "97/97 [==============================] - 0s 2ms/step - loss: 0.0037\n",
            "Epoch 16/70\n",
            "97/97 [==============================] - 0s 2ms/step - loss: 0.0037\n",
            "Epoch 17/70\n",
            "97/97 [==============================] - 0s 2ms/step - loss: 0.0036\n",
            "Epoch 18/70\n",
            "97/97 [==============================] - 0s 3ms/step - loss: 0.0034\n",
            "Epoch 19/70\n",
            "97/97 [==============================] - 0s 2ms/step - loss: 0.0033\n",
            "Epoch 20/70\n",
            "97/97 [==============================] - 0s 3ms/step - loss: 0.0032\n",
            "Epoch 21/70\n",
            "97/97 [==============================] - 0s 2ms/step - loss: 0.0032\n",
            "Epoch 22/70\n",
            "97/97 [==============================] - 0s 2ms/step - loss: 0.0033\n",
            "Epoch 23/70\n",
            "97/97 [==============================] - 0s 2ms/step - loss: 0.0028\n",
            "Epoch 24/70\n",
            "97/97 [==============================] - 0s 3ms/step - loss: 0.0032\n",
            "Epoch 25/70\n",
            "97/97 [==============================] - 0s 2ms/step - loss: 0.0026\n",
            "Epoch 26/70\n",
            "97/97 [==============================] - 0s 2ms/step - loss: 0.0025\n",
            "Epoch 27/70\n",
            "97/97 [==============================] - 0s 2ms/step - loss: 0.0025\n",
            "Epoch 28/70\n",
            "97/97 [==============================] - 0s 2ms/step - loss: 0.0024\n",
            "Epoch 29/70\n",
            "97/97 [==============================] - 0s 2ms/step - loss: 0.0024\n",
            "Epoch 30/70\n",
            "97/97 [==============================] - 0s 2ms/step - loss: 0.0024\n",
            "Epoch 31/70\n",
            "97/97 [==============================] - 0s 2ms/step - loss: 0.0024\n",
            "Epoch 32/70\n",
            "97/97 [==============================] - 0s 2ms/step - loss: 0.0023\n",
            "Epoch 33/70\n",
            "97/97 [==============================] - 0s 2ms/step - loss: 0.0023\n",
            "Epoch 34/70\n",
            "97/97 [==============================] - 0s 2ms/step - loss: 0.0025\n",
            "Epoch 35/70\n",
            "97/97 [==============================] - 0s 2ms/step - loss: 0.0022\n",
            "Epoch 36/70\n",
            "97/97 [==============================] - 0s 2ms/step - loss: 0.0022\n",
            "Epoch 37/70\n",
            "97/97 [==============================] - 0s 3ms/step - loss: 0.0020\n",
            "Epoch 38/70\n",
            "97/97 [==============================] - 0s 2ms/step - loss: 0.0021\n",
            "Epoch 39/70\n",
            "97/97 [==============================] - 0s 2ms/step - loss: 0.0020\n",
            "Epoch 40/70\n",
            "97/97 [==============================] - 0s 2ms/step - loss: 0.0023\n",
            "Epoch 41/70\n",
            "97/97 [==============================] - 0s 3ms/step - loss: 0.0022\n",
            "Epoch 42/70\n",
            "97/97 [==============================] - 0s 2ms/step - loss: 0.0019\n",
            "Epoch 43/70\n",
            "97/97 [==============================] - 0s 2ms/step - loss: 0.0020\n",
            "Epoch 44/70\n",
            "97/97 [==============================] - 0s 2ms/step - loss: 0.0020\n",
            "Epoch 45/70\n",
            "97/97 [==============================] - 0s 2ms/step - loss: 0.0019\n",
            "Epoch 46/70\n",
            "97/97 [==============================] - 0s 2ms/step - loss: 0.0018\n",
            "Epoch 47/70\n",
            "97/97 [==============================] - 0s 2ms/step - loss: 0.0020\n",
            "Epoch 48/70\n",
            "97/97 [==============================] - 0s 2ms/step - loss: 0.0018\n",
            "Epoch 49/70\n",
            "97/97 [==============================] - 0s 2ms/step - loss: 0.0019\n",
            "Epoch 50/70\n",
            "97/97 [==============================] - 0s 2ms/step - loss: 0.0018\n",
            "Epoch 51/70\n",
            "97/97 [==============================] - 0s 2ms/step - loss: 0.0019\n",
            "Epoch 52/70\n",
            "97/97 [==============================] - 0s 2ms/step - loss: 0.0018\n",
            "Epoch 53/70\n",
            "97/97 [==============================] - 0s 2ms/step - loss: 0.0018\n",
            "Epoch 54/70\n",
            "97/97 [==============================] - 0s 2ms/step - loss: 0.0018\n",
            "Epoch 55/70\n",
            "97/97 [==============================] - 0s 2ms/step - loss: 0.0019\n",
            "Epoch 56/70\n",
            "97/97 [==============================] - 0s 2ms/step - loss: 0.0018\n",
            "Epoch 57/70\n",
            "97/97 [==============================] - 0s 2ms/step - loss: 0.0019\n",
            "Epoch 58/70\n",
            "97/97 [==============================] - 0s 2ms/step - loss: 0.0017\n",
            "Epoch 59/70\n",
            "97/97 [==============================] - 0s 2ms/step - loss: 0.0017\n",
            "Epoch 60/70\n",
            "97/97 [==============================] - 0s 2ms/step - loss: 0.0018\n",
            "Epoch 61/70\n",
            "97/97 [==============================] - 0s 2ms/step - loss: 0.0017\n",
            "Epoch 62/70\n",
            "97/97 [==============================] - 0s 2ms/step - loss: 0.0017\n",
            "Epoch 63/70\n",
            "97/97 [==============================] - 0s 2ms/step - loss: 0.0018\n",
            "Epoch 64/70\n",
            "97/97 [==============================] - 0s 2ms/step - loss: 0.0017\n",
            "Epoch 65/70\n",
            "97/97 [==============================] - 0s 2ms/step - loss: 0.0018\n",
            "Epoch 66/70\n",
            "97/97 [==============================] - 0s 2ms/step - loss: 0.0016\n",
            "Epoch 67/70\n",
            "97/97 [==============================] - 0s 3ms/step - loss: 0.0017\n",
            "Epoch 68/70\n",
            "97/97 [==============================] - 0s 2ms/step - loss: 0.0016\n",
            "Epoch 69/70\n",
            "97/97 [==============================] - 0s 2ms/step - loss: 0.0017\n",
            "Epoch 70/70\n",
            "97/97 [==============================] - 0s 2ms/step - loss: 0.0016\n"
          ]
        },
        {
          "output_type": "execute_result",
          "data": {
            "text/plain": [
              "<keras.callbacks.History at 0x7f80f9a764d0>"
            ]
          },
          "metadata": {},
          "execution_count": 269
        }
      ]
    },
    {
      "cell_type": "code",
      "source": [
        "predict_train = model.predict(X_train)\n",
        "predict_test = model.predict(X_test)\n",
        "\n",
        "predict_train = scaler.inverse_transform(predict_train)\n",
        "y_train = scaler.inverse_transform([y_train])\n",
        "predict_test = scaler.inverse_transform(predict_test)\n",
        "y_test = scaler.inverse_transform([y_test])\n",
        "\n",
        "trainScore = math.sqrt(mean_squared_error(y_train[0], predict_train[:,0]))\n",
        "print('Train Score: %.2f RMSE' % (trainScore))\n",
        "testScore = math.sqrt(mean_squared_error(y_test[0], predict_test[:,0]))\n",
        "print('Test Score: %.2f RMSE' % (testScore))"
      ],
      "metadata": {
        "colab": {
          "base_uri": "https://localhost:8080/"
        },
        "id": "kSXvbgNgDlNp",
        "outputId": "09d3359b-9859-441e-9102-acd3ae07ad71"
      },
      "execution_count": 270,
      "outputs": [
        {
          "output_type": "stream",
          "name": "stdout",
          "text": [
            "Train Score: 22.54 RMSE\n",
            "Test Score: 38.92 RMSE\n"
          ]
        }
      ]
    },
    {
      "cell_type": "code",
      "source": [
        "predict_trainPlot = np.empty_like(num_passengers)\n",
        "predict_trainPlot[:, :] = np.nan\n",
        "predict_trainPlot[time_stamp:len(predict_train)+time_stamp, :] = predict_train\n",
        "\n",
        "testPredictPlot = np.empty_like(num_passengers)\n",
        "testPredictPlot[:, :] = np.nan\n",
        "testPredictPlot[len(predict_train)+(time_stamp*2)+1:len(num_passengers)-1, :] = predict_test\n",
        "\n",
        "plt.plot(scaler.inverse_transform(num_passengers))\n",
        "plt.plot(predict_trainPlot)\n",
        "plt.plot(testPredictPlot)\n",
        "plt.show()"
      ],
      "metadata": {
        "colab": {
          "base_uri": "https://localhost:8080/",
          "height": 265
        },
        "id": "0Oa6pftWEZhv",
        "outputId": "355bbcb4-b3b6-4530-ca43-57415e29d374"
      },
      "execution_count": 271,
      "outputs": [
        {
          "output_type": "display_data",
          "data": {
            "text/plain": [
              "<Figure size 432x288 with 1 Axes>"
            ],
            "image/png": "[encoded data removed]"
          },
          "metadata": {
            "needs_background": "light"
          }
        }
      ]
    },
    {
      "cell_type": "markdown",
      "source": [
        "Что помогло вам улучшить ее точность? <br> Применение MiMaxScaler в предобработке данных, разбиение трейн/тест \"вручную\", увеличение числа эпох (>70)   "
      ],
      "metadata": {
        "id": "mRL_ff4ZNsTz"
      }
    }
  ]
}