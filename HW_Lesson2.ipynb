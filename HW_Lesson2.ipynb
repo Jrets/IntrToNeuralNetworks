{
  "cells": [
    {
      "cell_type": "code",
      "execution_count": 1,
      "metadata": {
        "id": "FxAfz18X10ZH"
      },
      "outputs": [],
      "source": [
        "import numpy as np\n",
        "import pandas as pd\n",
        "import matplotlib.pyplot as plt\n",
        "from keras.datasets import fashion_mnist\n",
        "from keras.models import Sequential\n",
        "from keras.layers import Input, Dense, Conv2D, MaxPooling2D, Flatten, Dropout\n",
        "from tensorflow.keras.utils import to_categorical"
      ]
    },
    {
      "cell_type": "code",
      "execution_count": 2,
      "metadata": {
        "colab": {
          "base_uri": "https://localhost:8080/"
        },
        "id": "JdrAL1bm4fRp",
        "outputId": "635e3d4d-00cc-4dbc-f0d8-e254be6fc39b"
      },
      "outputs": [
        {
          "output_type": "stream",
          "name": "stdout",
          "text": [
            "Downloading data from https://storage.googleapis.com/tensorflow/tf-keras-datasets/train-labels-idx1-ubyte.gz\n",
            "32768/29515 [=================================] - 0s 0us/step\n",
            "40960/29515 [=========================================] - 0s 0us/step\n",
            "Downloading data from https://storage.googleapis.com/tensorflow/tf-keras-datasets/train-images-idx3-ubyte.gz\n",
            "26427392/26421880 [==============================] - 0s 0us/step\n",
            "26435584/26421880 [==============================] - 0s 0us/step\n",
            "Downloading data from https://storage.googleapis.com/tensorflow/tf-keras-datasets/t10k-labels-idx1-ubyte.gz\n",
            "16384/5148 [===============================================================================================] - 0s 0us/step\n",
            "Downloading data from https://storage.googleapis.com/tensorflow/tf-keras-datasets/t10k-images-idx3-ubyte.gz\n",
            "4423680/4422102 [==============================] - 0s 0us/step\n",
            "4431872/4422102 [==============================] - 0s 0us/step\n"
          ]
        }
      ],
      "source": [
        "(train_imagef,train_labelf),(test_imagef,test_labelf)=fashion_mnist.load_data()"
      ]
    },
    {
      "cell_type": "code",
      "execution_count": 3,
      "metadata": {
        "id": "yU9oqp_OscxC"
      },
      "outputs": [],
      "source": [
        "# the data, split between train and test sets\n",
        "(x_train, y_train),(x_test,y_test)=fashion_mnist.load_data()"
      ]
    },
    {
      "cell_type": "code",
      "execution_count": 4,
      "metadata": {
        "colab": {
          "base_uri": "https://localhost:8080/"
        },
        "id": "lWcKwE2756Ms",
        "outputId": "e5bd99d9-32a6-4a9f-d320-4b29b465478d"
      },
      "outputs": [
        {
          "output_type": "execute_result",
          "data": {
            "text/plain": [
              "(60000, 10000)"
            ]
          },
          "metadata": {},
          "execution_count": 4
        }
      ],
      "source": [
        "#Сравниение кол-ва данных в train и test\n",
        "x_train.shape[0], x_test.shape[0]"
      ]
    },
    {
      "cell_type": "code",
      "execution_count": 5,
      "metadata": {
        "id": "dyFfbcks57D9"
      },
      "outputs": [],
      "source": [
        "#Нормализация данных\n",
        "x_train = x_train.astype(\"float32\") / 255\n",
        "x_test = x_test.astype(\"float32\") / 255"
      ]
    },
    {
      "cell_type": "code",
      "execution_count": 6,
      "metadata": {
        "colab": {
          "base_uri": "https://localhost:8080/"
        },
        "id": "q5g1oTpV90aw",
        "outputId": "6f82add8-31c9-4a94-d43c-6e04298b3809"
      },
      "outputs": [
        {
          "output_type": "stream",
          "name": "stdout",
          "text": [
            "x_train shape: (60000, 28, 28, 1)\n",
            "60000 train samples\n",
            "10000 test samples\n"
          ]
        }
      ],
      "source": [
        "# Make sure images have shape (28, 28, 1)\n",
        "x_train = np.expand_dims(x_train, -1)\n",
        "x_test = np.expand_dims(x_test, -1)\n",
        "print(\"x_train shape:\", x_train.shape)\n",
        "print(x_train.shape[0], \"train samples\")\n",
        "print(x_test.shape[0], \"test samples\")"
      ]
    },
    {
      "cell_type": "code",
      "execution_count": 7,
      "metadata": {
        "id": "Nl-qVsnf57QU"
      },
      "outputs": [],
      "source": [
        "#Количество классов\n",
        "num_classes = 10\n",
        "# формат входных данных\n",
        "input_shape = (28, 28, 1)"
      ]
    },
    {
      "cell_type": "code",
      "execution_count": 8,
      "metadata": {
        "id": "G-g0etBQ_D_T"
      },
      "outputs": [],
      "source": [
        "# OHE меток классов\n",
        "y_train = to_categorical(y_train, num_classes)\n",
        "y_test = to_categorical(y_test, num_classes)"
      ]
    },
    {
      "cell_type": "code",
      "execution_count": 9,
      "metadata": {
        "id": "Pg9h7BYxAjUW"
      },
      "outputs": [],
      "source": [
        "def get_metrics(num_neurons = None, batch_size = None, epochs = None):\n",
        "  #metrics_list = []\n",
        "\n",
        "  model = Sequential(\n",
        "      [\n",
        "          Input(shape=input_shape),\n",
        "          Flatten(),\n",
        "          Dense(128, activation='relu', input_shape=(784,)),\n",
        "          Dense(num_neurons, activation='tanh'), # Скрытый слой из 110 нейронов с активацией tanh\n",
        "          Dense(num_neurons, activation='tanh'), # Скрытый слой k из 100 нейронов с активацией tanh\n",
        "          Dense(num_classes, activation=\"softmax\"),\n",
        "      ]\n",
        "      )\n",
        "  \n",
        "  model.compile(loss=\"categorical_crossentropy\", optimizer=\"adam\", metrics=[\"accuracy\"])\n",
        "\n",
        "  model.fit(x_train, y_train, batch_size=batch_size, epochs=epochs, validation_split=0.2, verbose = 0)\n",
        "  \n",
        "  score = model.evaluate(x_test, y_test, verbose=0)\n",
        "\n",
        "  #metrics_list = metrics_list.append(score)\n",
        "  return score\n"
      ]
    },
    {
      "cell_type": "code",
      "source": [
        "num_neurons_list = [1, 5, 10, 15, 20 , 40, 100]\n",
        "batch_size = 1024\n",
        "epochs = 15"
      ],
      "metadata": {
        "id": "e_SJQKO7GKDE"
      },
      "execution_count": 10,
      "outputs": []
    },
    {
      "cell_type": "code",
      "source": [
        "metrics_neuron_list = []\n",
        "for num in num_neurons_list:\n",
        "  metrics_row = get_metrics(num_neurons = num, \n",
        "                            batch_size = batch_size,\n",
        "                           epochs = epochs)\n",
        "  metrics_row.append(num)  \n",
        "  metrics_neuron_list.append(metrics_row)"
      ],
      "metadata": {
        "id": "V0jTwt7YRjKY"
      },
      "execution_count": 11,
      "outputs": []
    },
    {
      "cell_type": "code",
      "source": [
        "df_neuron_metrics = pd.DataFrame(metrics_neuron_list, columns=['loss', 'accuracy', 'num_neurons'])\n",
        "df_neuron_metrics\n",
        "                          "
      ],
      "metadata": {
        "colab": {
          "base_uri": "https://localhost:8080/",
          "height": 269
        },
        "id": "TyrjwhxHwflw",
        "outputId": "d76b27ae-386a-4506-cbea-2b88200a0693"
      },
      "execution_count": 12,
      "outputs": [
        {
          "output_type": "execute_result",
          "data": {
            "text/plain": [
              "       loss  accuracy  num_neurons\n",
              "0  1.897819    0.1931            1\n",
              "1  0.690517    0.8554            5\n",
              "2  0.423668    0.8663           10\n",
              "3  0.383706    0.8697           15\n",
              "4  0.359300    0.8752           20\n",
              "5  0.349287    0.8756           40\n",
              "6  0.338920    0.8769          100"
            ],
            "text/html": [
              "\n",
              "  <div id=\"df-776ec811-9356-4b31-8bd6-f44b9e999e32\">\n",
              "    <div class=\"colab-df-container\">\n",
              "      <div>\n",
              "<style scoped>\n",
              "    .dataframe tbody tr th:only-of-type {\n",
              "        vertical-align: middle;\n",
              "    }\n",
              "\n",
              "    .dataframe tbody tr th {\n",
              "        vertical-align: top;\n",
              "    }\n",
              "\n",
              "    .dataframe thead th {\n",
              "        text-align: right;\n",
              "    }\n",
              "</style>\n",
              "<table border=\"1\" class=\"dataframe\">\n",
              "  <thead>\n",
              "    <tr style=\"text-align: right;\">\n",
              "      <th></th>\n",
              "      <th>loss</th>\n",
              "      <th>accuracy</th>\n",
              "      <th>num_neurons</th>\n",
              "    </tr>\n",
              "  </thead>\n",
              "  <tbody>\n",
              "    <tr>\n",
              "      <th>0</th>\n",
              "      <td>1.897819</td>\n",
              "      <td>0.1931</td>\n",
              "      <td>1</td>\n",
              "    </tr>\n",
              "    <tr>\n",
              "      <th>1</th>\n",
              "      <td>0.690517</td>\n",
              "      <td>0.8554</td>\n",
              "      <td>5</td>\n",
              "    </tr>\n",
              "    <tr>\n",
              "      <th>2</th>\n",
              "      <td>0.423668</td>\n",
              "      <td>0.8663</td>\n",
              "      <td>10</td>\n",
              "    </tr>\n",
              "    <tr>\n",
              "      <th>3</th>\n",
              "      <td>0.383706</td>\n",
              "      <td>0.8697</td>\n",
              "      <td>15</td>\n",
              "    </tr>\n",
              "    <tr>\n",
              "      <th>4</th>\n",
              "      <td>0.359300</td>\n",
              "      <td>0.8752</td>\n",
              "      <td>20</td>\n",
              "    </tr>\n",
              "    <tr>\n",
              "      <th>5</th>\n",
              "      <td>0.349287</td>\n",
              "      <td>0.8756</td>\n",
              "      <td>40</td>\n",
              "    </tr>\n",
              "    <tr>\n",
              "      <th>6</th>\n",
              "      <td>0.338920</td>\n",
              "      <td>0.8769</td>\n",
              "      <td>100</td>\n",
              "    </tr>\n",
              "  </tbody>\n",
              "</table>\n",
              "</div>\n",
              "      <button class=\"colab-df-convert\" onclick=\"convertToInteractive('df-776ec811-9356-4b31-8bd6-f44b9e999e32')\"\n",
              "              title=\"Convert this dataframe to an interactive table.\"\n",
              "              style=\"display:none;\">\n",
              "        \n",
              "  <svg xmlns=\"http://www.w3.org/2000/svg\" height=\"24px\"viewBox=\"0 0 24 24\"\n",
              "       width=\"24px\">\n",
              "    <path d=\"M0 0h24v24H0V0z\" fill=\"none\"/>\n",
              "    <path d=\"M18.56 5.44l.94 2.06.94-2.06 2.06-.94-2.06-.94-.94-2.06-.94 2.06-2.06.94zm-11 1L8.5 8.5l.94-2.06 2.06-.94-2.06-.94L8.5 2.5l-.94 2.06-2.06.94zm10 10l.94 2.06.94-2.06 2.06-.94-2.06-.94-.94-2.06-.94 2.06-2.06.94z\"/><path d=\"M17.41 7.96l-1.37-1.37c-.4-.4-.92-.59-1.43-.59-.52 0-1.04.2-1.43.59L10.3 9.45l-7.72 7.72c-.78.78-.78 2.05 0 2.83L4 21.41c.39.39.9.59 1.41.59.51 0 1.02-.2 1.41-.59l7.78-7.78 2.81-2.81c.8-.78.8-2.07 0-2.86zM5.41 20L4 18.59l7.72-7.72 1.47 1.35L5.41 20z\"/>\n",
              "  </svg>\n",
              "      </button>\n",
              "      \n",
              "  <style>\n",
              "    .colab-df-container {\n",
              "      display:flex;\n",
              "      flex-wrap:wrap;\n",
              "      gap: 12px;\n",
              "    }\n",
              "\n",
              "    .colab-df-convert {\n",
              "      background-color: #E8F0FE;\n",
              "      border: none;\n",
              "      border-radius: 50%;\n",
              "      cursor: pointer;\n",
              "      display: none;\n",
              "      fill: #1967D2;\n",
              "      height: 32px;\n",
              "      padding: 0 0 0 0;\n",
              "      width: 32px;\n",
              "    }\n",
              "\n",
              "    .colab-df-convert:hover {\n",
              "      background-color: #E2EBFA;\n",
              "      box-shadow: 0px 1px 2px rgba(60, 64, 67, 0.3), 0px 1px 3px 1px rgba(60, 64, 67, 0.15);\n",
              "      fill: #174EA6;\n",
              "    }\n",
              "\n",
              "    [theme=dark] .colab-df-convert {\n",
              "      background-color: #3B4455;\n",
              "      fill: #D2E3FC;\n",
              "    }\n",
              "\n",
              "    [theme=dark] .colab-df-convert:hover {\n",
              "      background-color: #434B5C;\n",
              "      box-shadow: 0px 1px 3px 1px rgba(0, 0, 0, 0.15);\n",
              "      filter: drop-shadow(0px 1px 2px rgba(0, 0, 0, 0.3));\n",
              "      fill: #FFFFFF;\n",
              "    }\n",
              "  </style>\n",
              "\n",
              "      <script>\n",
              "        const buttonEl =\n",
              "          document.querySelector('#df-776ec811-9356-4b31-8bd6-f44b9e999e32 button.colab-df-convert');\n",
              "        buttonEl.style.display =\n",
              "          google.colab.kernel.accessAllowed ? 'block' : 'none';\n",
              "\n",
              "        async function convertToInteractive(key) {\n",
              "          const element = document.querySelector('#df-776ec811-9356-4b31-8bd6-f44b9e999e32');\n",
              "          const dataTable =\n",
              "            await google.colab.kernel.invokeFunction('convertToInteractive',\n",
              "                                                     [key], {});\n",
              "          if (!dataTable) return;\n",
              "\n",
              "          const docLinkHtml = 'Like what you see? Visit the ' +\n",
              "            '<a target=\"_blank\" href=https://colab.research.google.com/notebooks/data_table.ipynb>data table notebook</a>'\n",
              "            + ' to learn more about interactive tables.';\n",
              "          element.innerHTML = '';\n",
              "          dataTable['output_type'] = 'display_data';\n",
              "          await google.colab.output.renderOutput(dataTable, element);\n",
              "          const docLink = document.createElement('div');\n",
              "          docLink.innerHTML = docLinkHtml;\n",
              "          element.appendChild(docLink);\n",
              "        }\n",
              "      </script>\n",
              "    </div>\n",
              "  </div>\n",
              "  "
            ]
          },
          "metadata": {},
          "execution_count": 12
        }
      ]
    },
    {
      "cell_type": "markdown",
      "source": [
        "1.1 Опишите - какой результата получен в нейросети в зависимости от:\n",
        "числа нейронов в слое(для 2-хслойной сети)<br>\n",
        "Acuracy после достижения нейронами количества 10,  теряет темпы роста (практически выходит на плато)"
      ],
      "metadata": {
        "id": "MQj46hif7ImJ"
      }
    },
    {
      "cell_type": "code",
      "source": [
        "def get_metrics_layers(num_neurons = None, n_layers = None, batch_size = None, epochs = None):\n",
        "\n",
        "  i = 0\n",
        "  model = Sequential(name='num_layers')\n",
        "  model.add(Input(shape=input_shape))\n",
        "  model.add(Flatten())\n",
        "  model.add(Dense(128, activation='relu', input_shape=(784,)))  \n",
        "  # входной слой + поносвязный слой из 128 нейронов с активацией ReLU\n",
        "  while n_layers > i:\n",
        "    model.add(Dense(num_neurons, activation='tanh')) # Скрытый слой k из 10+(10-k)*10 нейронов с активацией tanh\n",
        "    i += 1\n",
        "  model.add(Dense(10, activation='softmax')) \n",
        "\n",
        "  model.compile(loss=\"categorical_crossentropy\", optimizer=\"adam\", metrics=[\"accuracy\"])\n",
        "\n",
        "  model.fit(x_train, y_train, batch_size=batch_size, epochs=epochs, validation_split=0.2, verbose = 0)\n",
        "  \n",
        "  score = model.evaluate(x_test, y_test, verbose=0)\n",
        "\n",
        "  return score"
      ],
      "metadata": {
        "id": "KJb_ytTg1aiP"
      },
      "execution_count": 24,
      "outputs": []
    },
    {
      "cell_type": "code",
      "source": [
        "num_layer_list = [2, 3, 5, 10]"
      ],
      "metadata": {
        "id": "2C0fOSrp9v83"
      },
      "execution_count": 26,
      "outputs": []
    },
    {
      "cell_type": "code",
      "source": [
        "metrics_layer_list = []\n",
        "for n_layers in num_layer_list:\n",
        "  #print(n_layers)\n",
        "  metrics_row = get_metrics_layers(num_neurons = 10, n_layers = n_layers, batch_size = batch_size, epochs = epochs)\n",
        "  #print(metrics_row)\n",
        "  metrics_row.append(n_layers)\n",
        "  #print(metrics_row)  \n",
        "  metrics_layer_list.append(metrics_row)\n",
        "  #print(metrics_layer_list)"
      ],
      "metadata": {
        "colab": {
          "base_uri": "https://localhost:8080/"
        },
        "id": "J8vuQ7cl3FZA",
        "outputId": "59a065ce-30c0-4b94-88db-4e5d7fac1e32"
      },
      "execution_count": 27,
      "outputs": [
        {
          "output_type": "stream",
          "name": "stdout",
          "text": [
            "[0.42441612482070923, 0.8658000230789185, 2]\n",
            "[[0.42441612482070923, 0.8658000230789185, 2]]\n",
            "[0.4199461042881012, 0.8668000102043152, 3]\n",
            "[[0.42441612482070923, 0.8658000230789185, 2], [0.4199461042881012, 0.8668000102043152, 3]]\n",
            "[0.4195851981639862, 0.8751000165939331, 5]\n",
            "[[0.42441612482070923, 0.8658000230789185, 2], [0.4199461042881012, 0.8668000102043152, 3], [0.4195851981639862, 0.8751000165939331, 5]]\n",
            "[0.4829154312610626, 0.864799976348877, 10]\n",
            "[[0.42441612482070923, 0.8658000230789185, 2], [0.4199461042881012, 0.8668000102043152, 3], [0.4195851981639862, 0.8751000165939331, 5], [0.4829154312610626, 0.864799976348877, 10]]\n"
          ]
        }
      ]
    },
    {
      "cell_type": "code",
      "source": [
        "df_layer_metrics = pd.DataFrame(metrics_layer_list, columns=['loss', 'accuracy', 'num_layer'])\n",
        "df_layer_metrics"
      ],
      "metadata": {
        "colab": {
          "base_uri": "https://localhost:8080/",
          "height": 175
        },
        "id": "QzT140j1ClHT",
        "outputId": "850b4609-c2e7-4e0d-8c1a-cf1e6ad1a77e"
      },
      "execution_count": 28,
      "outputs": [
        {
          "output_type": "execute_result",
          "data": {
            "text/plain": [
              "       loss  accuracy  num_layer\n",
              "0  0.424416    0.8658          2\n",
              "1  0.419946    0.8668          3\n",
              "2  0.419585    0.8751          5\n",
              "3  0.482915    0.8648         10"
            ],
            "text/html": [
              "\n",
              "  <div id=\"df-70a23a1a-7753-44e0-a43e-bc03bf61522d\">\n",
              "    <div class=\"colab-df-container\">\n",
              "      <div>\n",
              "<style scoped>\n",
              "    .dataframe tbody tr th:only-of-type {\n",
              "        vertical-align: middle;\n",
              "    }\n",
              "\n",
              "    .dataframe tbody tr th {\n",
              "        vertical-align: top;\n",
              "    }\n",
              "\n",
              "    .dataframe thead th {\n",
              "        text-align: right;\n",
              "    }\n",
              "</style>\n",
              "<table border=\"1\" class=\"dataframe\">\n",
              "  <thead>\n",
              "    <tr style=\"text-align: right;\">\n",
              "      <th></th>\n",
              "      <th>loss</th>\n",
              "      <th>accuracy</th>\n",
              "      <th>num_layer</th>\n",
              "    </tr>\n",
              "  </thead>\n",
              "  <tbody>\n",
              "    <tr>\n",
              "      <th>0</th>\n",
              "      <td>0.424416</td>\n",
              "      <td>0.8658</td>\n",
              "      <td>2</td>\n",
              "    </tr>\n",
              "    <tr>\n",
              "      <th>1</th>\n",
              "      <td>0.419946</td>\n",
              "      <td>0.8668</td>\n",
              "      <td>3</td>\n",
              "    </tr>\n",
              "    <tr>\n",
              "      <th>2</th>\n",
              "      <td>0.419585</td>\n",
              "      <td>0.8751</td>\n",
              "      <td>5</td>\n",
              "    </tr>\n",
              "    <tr>\n",
              "      <th>3</th>\n",
              "      <td>0.482915</td>\n",
              "      <td>0.8648</td>\n",
              "      <td>10</td>\n",
              "    </tr>\n",
              "  </tbody>\n",
              "</table>\n",
              "</div>\n",
              "      <button class=\"colab-df-convert\" onclick=\"convertToInteractive('df-70a23a1a-7753-44e0-a43e-bc03bf61522d')\"\n",
              "              title=\"Convert this dataframe to an interactive table.\"\n",
              "              style=\"display:none;\">\n",
              "        \n",
              "  <svg xmlns=\"http://www.w3.org/2000/svg\" height=\"24px\"viewBox=\"0 0 24 24\"\n",
              "       width=\"24px\">\n",
              "    <path d=\"M0 0h24v24H0V0z\" fill=\"none\"/>\n",
              "    <path d=\"M18.56 5.44l.94 2.06.94-2.06 2.06-.94-2.06-.94-.94-2.06-.94 2.06-2.06.94zm-11 1L8.5 8.5l.94-2.06 2.06-.94-2.06-.94L8.5 2.5l-.94 2.06-2.06.94zm10 10l.94 2.06.94-2.06 2.06-.94-2.06-.94-.94-2.06-.94 2.06-2.06.94z\"/><path d=\"M17.41 7.96l-1.37-1.37c-.4-.4-.92-.59-1.43-.59-.52 0-1.04.2-1.43.59L10.3 9.45l-7.72 7.72c-.78.78-.78 2.05 0 2.83L4 21.41c.39.39.9.59 1.41.59.51 0 1.02-.2 1.41-.59l7.78-7.78 2.81-2.81c.8-.78.8-2.07 0-2.86zM5.41 20L4 18.59l7.72-7.72 1.47 1.35L5.41 20z\"/>\n",
              "  </svg>\n",
              "      </button>\n",
              "      \n",
              "  <style>\n",
              "    .colab-df-container {\n",
              "      display:flex;\n",
              "      flex-wrap:wrap;\n",
              "      gap: 12px;\n",
              "    }\n",
              "\n",
              "    .colab-df-convert {\n",
              "      background-color: #E8F0FE;\n",
              "      border: none;\n",
              "      border-radius: 50%;\n",
              "      cursor: pointer;\n",
              "      display: none;\n",
              "      fill: #1967D2;\n",
              "      height: 32px;\n",
              "      padding: 0 0 0 0;\n",
              "      width: 32px;\n",
              "    }\n",
              "\n",
              "    .colab-df-convert:hover {\n",
              "      background-color: #E2EBFA;\n",
              "      box-shadow: 0px 1px 2px rgba(60, 64, 67, 0.3), 0px 1px 3px 1px rgba(60, 64, 67, 0.15);\n",
              "      fill: #174EA6;\n",
              "    }\n",
              "\n",
              "    [theme=dark] .colab-df-convert {\n",
              "      background-color: #3B4455;\n",
              "      fill: #D2E3FC;\n",
              "    }\n",
              "\n",
              "    [theme=dark] .colab-df-convert:hover {\n",
              "      background-color: #434B5C;\n",
              "      box-shadow: 0px 1px 3px 1px rgba(0, 0, 0, 0.15);\n",
              "      filter: drop-shadow(0px 1px 2px rgba(0, 0, 0, 0.3));\n",
              "      fill: #FFFFFF;\n",
              "    }\n",
              "  </style>\n",
              "\n",
              "      <script>\n",
              "        const buttonEl =\n",
              "          document.querySelector('#df-70a23a1a-7753-44e0-a43e-bc03bf61522d button.colab-df-convert');\n",
              "        buttonEl.style.display =\n",
              "          google.colab.kernel.accessAllowed ? 'block' : 'none';\n",
              "\n",
              "        async function convertToInteractive(key) {\n",
              "          const element = document.querySelector('#df-70a23a1a-7753-44e0-a43e-bc03bf61522d');\n",
              "          const dataTable =\n",
              "            await google.colab.kernel.invokeFunction('convertToInteractive',\n",
              "                                                     [key], {});\n",
              "          if (!dataTable) return;\n",
              "\n",
              "          const docLinkHtml = 'Like what you see? Visit the ' +\n",
              "            '<a target=\"_blank\" href=https://colab.research.google.com/notebooks/data_table.ipynb>data table notebook</a>'\n",
              "            + ' to learn more about interactive tables.';\n",
              "          element.innerHTML = '';\n",
              "          dataTable['output_type'] = 'display_data';\n",
              "          await google.colab.output.renderOutput(dataTable, element);\n",
              "          const docLink = document.createElement('div');\n",
              "          docLink.innerHTML = docLinkHtml;\n",
              "          element.appendChild(docLink);\n",
              "        }\n",
              "      </script>\n",
              "    </div>\n",
              "  </div>\n",
              "  "
            ]
          },
          "metadata": {},
          "execution_count": 28
        }
      ]
    },
    {
      "cell_type": "markdown",
      "source": [
        "1.2 Опишите - какой результата получен в нейросети в зависимости от:\n",
        "числа слоев (2, 3, 5, 10) при близких размерах сети <br>\n",
        "Оптимальное количество слоев 5"
      ],
      "metadata": {
        "id": "5XZzmojQH6ok"
      }
    },
    {
      "cell_type": "markdown",
      "source": [
        "2. Проверьте работу разных оптимизаторов (SGD, Adam, RMSProp) для одной из моделей п.1."
      ],
      "metadata": {
        "id": "4iUQjZ0KIvSq"
      }
    },
    {
      "cell_type": "code",
      "source": [
        "# создаем модель model\n",
        "model = Sequential(\n",
        "      [\n",
        "          Input(shape=input_shape),\n",
        "          Flatten(),\n",
        "          Dense(128, activation='relu', input_shape=(784,)),\n",
        "          Dense(10, activation='tanh'), # Скрытый слой из 10 нейронов с активацией tanh\n",
        "          Dense(10, activation='tanh'), # Скрытый слой k из 10 нейронов с активацией tanh\n",
        "          Dense(10, activation='tanh'), # Скрытый слой k из 10 нейронов с активацией tanh\n",
        "          Dense(10, activation='tanh'), # Скрытый слой k из 10 нейронов с активацией tanh\n",
        "          Dense(10, activation='tanh'), # Скрытый слой k из 10 нейронов с активацией tanh\n",
        "          Dense(num_classes, activation=\"softmax\"),\n",
        "      ]\n",
        "      )\n",
        "# сохраняем ее веса (это начальная точка) model.save_weights('model.h5')\n",
        "model.save_weights('model.h5')\n",
        "\n",
        "plt.figure(figsize=(16,7))\n",
        "\n",
        "# число рабочих эпох\n",
        "epochs = 15\n",
        "# вектор для выводв результатов\n",
        "epoch = np.arange(epochs+1)\n",
        "\n",
        "# будем изменять оптимизаторы\n",
        "\n",
        "#opt_list = [keras.optimizers.SGD( ),keras.optimizers.Adam( ),keras.optimizers.Nadam( )]\n",
        "for i_optim in ['SGD','RMSProp','adam','NAdam']:\n",
        "  # создаем рабочую модель modeli куда будем загружать эти вес (она должна быть идентичной структуры)\n",
        "  modeli = Sequential(\n",
        "      [\n",
        "          Input(shape=input_shape),\n",
        "          Flatten(),\n",
        "          Dense(128, activation='relu', input_shape=(784,)),\n",
        "          Dense(10, activation='tanh'), # Скрытый слой из 10 нейронов с активацией tanh\n",
        "          Dense(10, activation='tanh'), # Скрытый слой k из 10 нейронов с активацией tanh\n",
        "          Dense(10, activation='tanh'), # Скрытый слой k из 10 нейронов с активацией tanh\n",
        "          Dense(10, activation='tanh'), # Скрытый слой k из 10 нейронов с активацией tanh\n",
        "          Dense(10, activation='tanh'), # Скрытый слой k из 10 нейронов с активацией tanh\n",
        "          Dense(num_classes, activation=\"softmax\"),\n",
        "      ]\n",
        "      )\n",
        "  # загружаем веса modeli.load_weights('model.h5')\n",
        "  modeli.load_weights('model.h5')\n",
        "  # компилируем modeli с одним из оптимизаторов\n",
        "  modeli.compile(\n",
        "      optimizer=i_optim,\n",
        "      loss='categorical_crossentropy',\n",
        "      metrics=['accuracy'],\n",
        "      )\n",
        "  # вычисляем ошибку для modeli без обучения\n",
        "  hh0_tr = modeli.evaluate(x_train[:48000,:], y_train[:48000],verbose = 0)\n",
        "  hh0_val = modeli.evaluate(x_train[48000:,:], y_train[48000:],verbose = 0)\n",
        "  # проводим обучение модели \n",
        "  hh = modeli.fit(\n",
        "                  x_train,\n",
        "                  y_train,\n",
        "                  epochs=epochs,\n",
        "                  batch_size=1024, validation_split=0.2, verbose = 0\n",
        "                  )\n",
        "  # картинки\n",
        "  plt.plot(epoch,np.log([hh0_tr[0]]+hh.history['loss']),'-',label = modeli.optimizer.get_config()['name']+' train')\n",
        "  plt.plot(epoch,np.log([hh0_val[0]]+hh.history['val_loss']),'--',label = modeli.optimizer.get_config()['name']+' val')\n",
        "plt.legend()\n",
        "plt.grid('On')\n",
        "\n",
        "plt.title('нейросети от оптимизатора log(loss)')\n",
        "plt.xlabel('epoch')\n",
        "plt.ylabel('log(loss)')\n",
        "plt.show()\n"
      ],
      "metadata": {
        "colab": {
          "base_uri": "https://localhost:8080/",
          "height": 458
        },
        "id": "ZM0EAK_ZI1KE",
        "outputId": "97459905-f753-4d38-bb11-991124520a52"
      },
      "execution_count": 31,
      "outputs": [
        {
          "output_type": "display_data",
          "data": {
            "text/plain": [
              "<Figure size 1152x504 with 1 Axes>"
            ],
            "image/png": "[encoded data removed]"
          },
          "metadata": {
            "needs_background": "light"
          }
        }
      ]
    },
    {
      "cell_type": "markdown",
      "source": [
        "Наименьший loss  наблюдается при применении оптимизатора Adam"
      ],
      "metadata": {
        "id": "HhY2US0-Qxol"
      }
    }
  ],
  "metadata": {
    "accelerator": "GPU",
    "colab": {
      "name": "HW_Lesson2.ipynb",
      "provenance": [],
      "collapsed_sections": []
    },
    "kernelspec": {
      "display_name": "Python 3",
      "name": "python3"
    },
    "language_info": {
      "name": "python"
    }
  },
  "nbformat": 4,
  "nbformat_minor": 0
}